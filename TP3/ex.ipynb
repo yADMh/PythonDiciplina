{
 "cells": [
  {
   "cell_type": "code",
   "execution_count": 1,
   "id": "77f3b3d7",
   "metadata": {},
   "outputs": [
    {
     "name": "stdout",
     "output_type": "stream",
     "text": [
      "B\n",
      "9\n",
      "5\n"
     ]
    }
   ],
   "source": [
    "codigo = \"B12-8391-L5\"\n",
    "\n",
    "primeiro_caractere = codigo[0]\n",
    "terceiro_caractere_serie = codigo[6]\n",
    "ultimo_caractere_lote = codigo[-1]\n",
    "\n",
    "print(primeiro_caractere)       \n",
    "print(terceiro_caractere_serie) \n",
    "print(ultimo_caractere_lote)    \n"
   ]
  },
  {
   "cell_type": "code",
   "execution_count": 2,
   "id": "597acf29",
   "metadata": {},
   "outputs": [
    {
     "name": "stdout",
     "output_type": "stream",
     "text": [
      "2023\n",
      "RN456\n",
      "01\n"
     ]
    }
   ],
   "source": [
    "codigo_sensor = \"MON2023-RN456-P01\"\n",
    "\n",
    "ano = codigo_sensor[3:7]\n",
    "segmento_intermediario = codigo_sensor[8:13]\n",
    "unidade_inventariada = codigo_sensor[-2:]\n",
    "\n",
    "print(ano)                   \n",
    "print(segmento_intermediario) \n",
    "print(unidade_inventariada)   \n"
   ]
  },
  {
   "cell_type": "code",
   "execution_count": 3,
   "id": "4fdf0117",
   "metadata": {},
   "outputs": [
    {
     "name": "stdout",
     "output_type": "stream",
     "text": [
      "['código', 'limpo', 'melhora', 'manutenção']\n",
      "código-limpo-melhora-manutenção\n"
     ]
    }
   ],
   "source": [
    "frase = \"código limpo melhora manutenção\"\n",
    "\n",
    "palavras = frase.split()\n",
    "frase_hifenizada = \"-\".join(palavras)\n",
    "\n",
    "print(palavras)         \n",
    "print(frase_hifenizada) \n"
   ]
  },
  {
   "cell_type": "code",
   "execution_count": 4,
   "id": "b48eb1f4",
   "metadata": {},
   "outputs": [
    {
     "name": "stdout",
     "output_type": "stream",
     "text": [
      "URL atualizada: https://sistema.exemplo.com/busca?termo=novo\n",
      "Termo extraído de url1: velho\n",
      "Termo extraído de url2: velho\n",
      "Termo extraído de url3: novo\n"
     ]
    }
   ],
   "source": [
    "url = \"https://sistema.exemplo.com/busca?termo=velho\"\n",
    "\n",
    "url_atualizada = url.replace(\"velho\", \"novo\")\n",
    "print(\"URL atualizada:\", url_atualizada)\n",
    "\n",
    "\n",
    "def extrair_termo(url: str) -> str:\n",
    "    chave = \"termo=\"\n",
    "    inicio = url.find(chave)\n",
    "    if inicio == -1:\n",
    "        return None  \n",
    "    \n",
    "    inicio += len(chave)  \n",
    "    fim = url.find(\"&\", inicio)  \n",
    "    \n",
    "    if fim == -1:\n",
    "        return url[inicio:] \n",
    "    else:\n",
    "        return url[inicio:fim]  \n",
    "\n",
    "\n",
    "url1 = \"https://sistema.exemplo.com/busca?termo=velho\"\n",
    "url2 = \"https://sistema.exemplo.com/busca?termo=velho&ref=param\"\n",
    "url3 = \"sistema.exemplo.com/busca?termo=novo\"\n",
    "\n",
    "\n",
    "print(\"Termo extraído de url1:\", extrair_termo(url1))  # velho\n",
    "print(\"Termo extraído de url2:\", extrair_termo(url2))  # velho\n",
    "print(\"Termo extraído de url3:\", extrair_termo(url3))  # novo\n"
   ]
  },
  {
   "cell_type": "code",
   "execution_count": 5,
   "id": "7a9c34b5",
   "metadata": {},
   "outputs": [
    {
     "name": "stdout",
     "output_type": "stream",
     "text": [
      "Começa com 'relat_'? True\n",
      "Contém 'final'? True\n",
      "Versão extraída: v2\n"
     ]
    }
   ],
   "source": [
    "nome_arquivo = \"relat_2024_final_v2.csv\"\n",
    "\n",
    "comeca_com_relat = nome_arquivo.startswith(\"relat_\")\n",
    "contem_final = nome_arquivo.find(\"final\") != -1\n",
    "\n",
    "\n",
    "def extrair_versao(nome: str) -> str:\n",
    "    ponto = nome.rfind(\".\")  \n",
    "    inicio_v = nome.rfind(\"v\", 0, ponto)\n",
    "    if inicio_v == -1:\n",
    "        return None\n",
    "    return nome[inicio_v:ponto]\n",
    "\n",
    "\n",
    "print(\"Começa com 'relat_'?\", comeca_com_relat)  \n",
    "print(\"Contém 'final'?\", contem_final)            \n",
    "print(\"Versão extraída:\", extrair_versao(nome_arquivo))  "
   ]
  },
  {
   "cell_type": "code",
   "execution_count": null,
   "id": "87517c0d",
   "metadata": {},
   "outputs": [
    {
     "name": "stdout",
     "output_type": "stream",
     "text": [
      "Aad, Sistema de Controle de Estoque Ativado\n"
     ]
    }
   ],
   "source": [
    "def exibir_mensagem(operador):\n",
    "    print(f\"{operador}, Sistema de Controle de Estoque Ativado\")\n",
    "\n",
    "\n",
    "nome_operador = input(\"Digite seu nome: \")\n",
    "\n",
    "\n",
    "exibir_mensagem(nome_operador)\n",
    "#Achei melhor fazer assim fica melhor\n"
   ]
  },
  {
   "cell_type": "code",
   "execution_count": null,
   "id": "37b1089a",
   "metadata": {},
   "outputs": [
    {
     "name": "stdout",
     "output_type": "stream",
     "text": [
      "Ademir sensor registrou 21 unidades\n"
     ]
    }
   ],
   "source": [
    "def registrar_sensor(sensor, valor):\n",
    "    print(f\"{sensor} registrou {valor} unidades\")\n",
    "\n",
    "\n",
    "meu_nome = \"Ademir\"\n",
    "idade = 21\n",
    "\n",
    "registrar_sensor(meu_nome + \" sensor\", idade)\n"
   ]
  },
  {
   "cell_type": "code",
   "execution_count": 12,
   "id": "1897b2ee",
   "metadata": {},
   "outputs": [
    {
     "name": "stdout",
     "output_type": "stream",
     "text": [
      "A umidade na Zona Norte é de 72%.\n"
     ]
    }
   ],
   "source": [
    "def exibir_umidade(regiao, umidade):\n",
    "    print(f\"A umidade na {regiao} é de {umidade}%.\")\n",
    "    \n",
    "\n",
    "exibir_umidade(umidade=72, regiao=\"Zona Norte\")"
   ]
  },
  {
   "cell_type": "code",
   "execution_count": 13,
   "id": "8ed161f3",
   "metadata": {},
   "outputs": [
    {
     "name": "stdout",
     "output_type": "stream",
     "text": [
      "=== Teste com status padrão ===\n",
      "Rdfhfn @3159 Rv`vtu / Rdpcgmvd\n",
      "Rdfhfn A6489 Rv`vtu / Rdpcgmvd\n",
      "Rdfhfn B97;9 Rv`vtu / Rdpcgmvd\n",
      "\n",
      "=== Teste com status 'Enviado' ===\n",
      "Rdfhfn @3159 Rv`vtu / Gmxhccq\n",
      "Rdfhfn A6489 Rv`vtu / Gmxhccq\n",
      "Rdfhfn B97;9 Rv`vtu / Gmxhccq\n"
     ]
    }
   ],
   "source": [
    "def criptografar_cme(lista_pedidos, status=\"Pendente\"):\n",
    "    for codigo in lista_pedidos:\n",
    "        mensagem = f\"Pedido {codigo}: Status - {status}\"\n",
    "        mensagem_criptografada = \"\"\n",
    "        \n",
    "      \n",
    "        for i, caractere in enumerate(mensagem):\n",
    "            if caractere == \" \":\n",
    "                mensagem_criptografada += caractere\n",
    "            elif i % 2 == 0:  \n",
    "                mensagem_criptografada += chr(ord(caractere) + 2)\n",
    "            else:           \n",
    "                mensagem_criptografada += chr(ord(caractere) - 1)\n",
    "        \n",
    "        print(mensagem_criptografada)\n",
    "\n",
    "\n",
    "\n",
    "pedidos = [\"A123\", \"B456\", \"C789\"]\n",
    "\n",
    "print(\"=== Teste com status padrão ===\")\n",
    "criptografar_cme(pedidos)\n",
    "\n",
    "print(\"\\n=== Teste com status 'Enviado' ===\")\n",
    "criptografar_cme(pedidos, status=\"Enviado\")\n"
   ]
  },
  {
   "cell_type": "code",
   "execution_count": 16,
   "id": "f2d831a5",
   "metadata": {},
   "outputs": [
    {
     "name": "stdout",
     "output_type": "stream",
     "text": [
      "Original: [12, 5, 7, 3, 9, 1.5, 8]\n",
      "Ordenada: [1.5, 3, 5, 7, 8, 9, 12]\n"
     ]
    }
   ],
   "source": [
    "def ordenar_valores(valores):\n",
    "\n",
    "    lista = valores[:]\n",
    "    n = len(lista)\n",
    "\n",
    "    for i in range(n):\n",
    "        for j in range(0, n-i-1):\n",
    "           \n",
    "            if lista[j] > lista[j+1]:\n",
    "                lista[j], lista[j+1] = lista[j+1], lista[j]\n",
    "\n",
    "    return lista\n",
    "\n",
    "\n",
    "valores = [12, 5, 7, 3, 9, 1.5, 8]\n",
    "valores_ordenados = ordenar_valores(valores)\n",
    "\n",
    "print(\"Original:\", valores)\n",
    "print(\"Ordenada:\", valores_ordenados)"
   ]
  },
  {
   "cell_type": "code",
   "execution_count": 17,
   "id": "d049807a",
   "metadata": {},
   "outputs": [
    {
     "name": "stdout",
     "output_type": "stream",
     "text": [
      "Mover disco de A para C\n",
      "Mover disco de A para B\n",
      "Mover disco de C para B\n",
      "Mover disco de A para C\n",
      "Mover disco de B para A\n",
      "Mover disco de B para C\n",
      "Mover disco de A para C\n"
     ]
    }
   ],
   "source": [
    "def mover_hanoi(n, origem, destino, suporte):\n",
    "    \"\"\"\n",
    "    Resolve o problema da Torre de Hanói para n discos.\n",
    "\n",
    "    Esta função imprime passo a passo os movimentos necessários para transferir\n",
    "    n discos de uma torre de origem para uma torre de destino, utilizando uma\n",
    "    torre de suporte intermediária. É uma implementação recursiva que usa\n",
    "    apenas listas conceituais (nomes das torres) e print() para exibir as ações.\n",
    "\n",
    "    Parâmetros:\n",
    "    -----------\n",
    "    n : int\n",
    "        Número de discos a serem movidos (deve ser >= 1).\n",
    "    origem : str\n",
    "        Nome da torre de origem de onde os discos serão movidos.\n",
    "    destino : str\n",
    "        Nome da torre de destino para onde os discos serão levados.\n",
    "    suporte : str\n",
    "        Nome da torre auxiliar usada durante a movimentação.\n",
    "\n",
    "    Comportamento:\n",
    "    --------------\n",
    "    A função não retorna nenhum valor. Para cada movimento, imprime:\n",
    "        \"Mover disco de <origem> para <destino>\"\n",
    "    \"\"\"\n",
    "    if n == 1:\n",
    "        print(f\"Mover disco de {origem} para {destino}\")\n",
    "    else:\n",
    "        mover_hanoi(n-1, origem, suporte, destino)\n",
    "        print(f\"Mover disco de {origem} para {destino}\")\n",
    "        mover_hanoi(n-1, suporte, destino, origem)\n",
    "\n",
    "\n",
    "# Executando o teste\n",
    "mover_hanoi(3, \"A\", \"C\", \"B\")\n"
   ]
  },
  {
   "cell_type": "code",
   "execution_count": 18,
   "id": "ca666551",
   "metadata": {},
   "outputs": [
    {
     "name": "stdout",
     "output_type": "stream",
     "text": [
      "['A1B2C3', '9X', '99Z']\n"
     ]
    }
   ],
   "source": [
    "def extrair_codigos(mensagem):\n",
    "    \"\"\"\n",
    "    Extrai códigos delimitados por '@' e '#' de uma string, removendo caracteres inválidos.\n",
    "\n",
    "    Parâmetros:\n",
    "    -----------\n",
    "    mensagem : str\n",
    "        Texto que pode conter vários códigos no formato @CÓDIGO# misturados com outros textos.\n",
    "\n",
    "    Retorna:\n",
    "    --------\n",
    "    list\n",
    "        Lista de códigos limpos, contendo apenas letras e números.\n",
    "    \"\"\"\n",
    "\n",
    "    codigos = []\n",
    "    i = 0\n",
    "\n",
    "    while i < len(mensagem):\n",
    "        if mensagem[i] == \"@\":\n",
    "            fim = mensagem.find(\"#\", i+1)\n",
    "            if fim == -1:\n",
    "                break \n",
    "            conteudo = mensagem[i+1:fim]\n",
    "            codigo_limpo = \"\"\n",
    "            for c in conteudo:\n",
    "                if c.isalnum():\n",
    "                    codigo_limpo += c\n",
    "            if codigo_limpo:\n",
    "                codigos.append(codigo_limpo)\n",
    "            i = fim + 1 \n",
    "        else:\n",
    "            i += 1\n",
    "    return codigos\n",
    "\n",
    "mensagem = \"Sensor detectado: @A1B2C3# fora de faixa. Erro: @ 9X # ignorado. Validação: @99Z#\"\n",
    "\n",
    "codigos = extrair_codigos(mensagem)\n",
    "print(codigos)"
   ]
  }
 ],
 "metadata": {
  "kernelspec": {
   "display_name": "Python 3",
   "language": "python",
   "name": "python3"
  },
  "language_info": {
   "codemirror_mode": {
    "name": "ipython",
    "version": 3
   },
   "file_extension": ".py",
   "mimetype": "text/x-python",
   "name": "python",
   "nbconvert_exporter": "python",
   "pygments_lexer": "ipython3",
   "version": "3.13.5"
  }
 },
 "nbformat": 4,
 "nbformat_minor": 5
}

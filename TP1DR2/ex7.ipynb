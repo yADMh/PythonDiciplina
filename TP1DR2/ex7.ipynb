{
 "cells": [
  {
   "cell_type": "code",
   "execution_count": null,
   "id": "15bae2b6",
   "metadata": {},
   "outputs": [],
   "source": [
    "nome = \"Ademir\"              \n",
    "sobrenome = \"Junior\"    \n",
    "turma = \"3745\"                 \n",
    "\n",
    "mensagem = \"Bem-vindo(a), \" + nome + \" \" + sobrenome + \"! Sua turma é \" + turma + \".\"\n",
    "\n",
    "print(mensagem)"
   ]
  }
 ],
 "metadata": {
  "language_info": {
   "name": "python"
  }
 },
 "nbformat": 4,
 "nbformat_minor": 5
}

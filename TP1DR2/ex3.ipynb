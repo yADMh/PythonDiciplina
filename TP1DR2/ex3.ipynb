{
 "cells": [
  {
   "cell_type": "code",
   "execution_count": null,
   "id": "d1adc5f9",
   "metadata": {},
   "outputs": [],
   "source": [
    "km_por_dia = 21              \n",
    "ano_2_digitos = 25           \n",
    "gasto_diario = 300 + ano_2_digitos  \n",
    "\n",
    "total_em_uma_semana = km_por_dia * 7\n",
    "diferenca_100_reais = 100 - gasto_diario\n",
    "dias_que_500_cobre = 500 // gasto_diario\n",
    "porcentagem_gasto_diario = gasto_diario % 100\n",
    "media_diaria_custo_por_km = gasto_diario / km_por_dia\n",
    "\n",
    "print(\"Total em uma semana (km):\", total_em_uma_semana)\n",
    "print(\"Diferença entre 100 reais e o gasto diário:\", diferenca_100_reais)\n",
    "print(\"Quantos dias o valor de R$500 cobre:\", dias_que_500_cobre)\n",
    "print(\"Porcentagem do gasto diário em relação a 100:\", porcentagem_gasto_diario)\n",
    "print(\"Média diária de custo por km:\", media_diaria_custo_por_km)"
   ]
  }
 ],
 "metadata": {
  "language_info": {
   "name": "python"
  }
 },
 "nbformat": 4,
 "nbformat_minor": 5
}

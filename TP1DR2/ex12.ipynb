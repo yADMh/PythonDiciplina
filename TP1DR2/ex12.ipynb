{
 "cells": [
  {
   "cell_type": "code",
   "execution_count": null,
   "id": "4bfef992",
   "metadata": {},
   "outputs": [],
   "source": [
    "desconto_txt = '21'  \n",
    "\n",
    "desconto_num = float(desconto_txt) / 3.14\n",
    "\n",
    "valor_produto = 400.99\n",
    "\n",
    "valor_desconto = valor_produto * (desconto_num / 100)\n",
    "\n",
    "valor_final = valor_produto - valor_desconto\n",
    "\n",
    "print(\"Valor final a ser pago: R$\", round(valor_final, 2))"
   ]
  }
 ],
 "metadata": {
  "language_info": {
   "name": "python"
  }
 },
 "nbformat": 4,
 "nbformat_minor": 5
}

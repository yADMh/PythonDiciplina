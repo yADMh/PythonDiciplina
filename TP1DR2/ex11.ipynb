{
 "cells": [
  {
   "cell_type": "code",
   "execution_count": null,
   "id": "239e4f7d",
   "metadata": {},
   "outputs": [],
   "source": [
    "ano_txt = '2004'  \n",
    "\n",
    "ano_int = int(ano_txt)\n",
    "\n",
    "resultado = ano_int + 5\n",
    "\n",
    "print(\"Resultado da soma:\", resultado)"
   ]
  }
 ],
 "metadata": {
  "language_info": {
   "name": "python"
  }
 },
 "nbformat": 4,
 "nbformat_minor": 5
}

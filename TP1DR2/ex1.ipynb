{
 "cells": [
  {
   "cell_type": "code",
   "execution_count": 1,
   "id": "476ca860",
   "metadata": {},
   "outputs": [
    {
     "name": "stdout",
     "output_type": "stream",
     "text": [
      "Cadastro de Estagiário:\n",
      "Nome: Ademir de Luca Junior\n",
      "Idade: 21\n",
      "Código do Departamento: 2104\n"
     ]
    }
   ],
   "source": [
    "nome_estagiario = \"Ademir de Luca Junior\"  \n",
    "idade_estagiario = 21        \n",
    "codigo_departamento = \"2104\"   \n",
    "\n",
    "\n",
    "print(\"Cadastro de Estagiário:\")\n",
    "print(\"Nome:\", nome_estagiario)\n",
    "print(\"Idade:\", idade_estagiario)\n",
    "print(\"Código do Departamento:\", codigo_departamento)"
   ]
  }
 ],
 "metadata": {
  "kernelspec": {
   "display_name": "Python 3",
   "language": "python",
   "name": "python3"
  },
  "language_info": {
   "codemirror_mode": {
    "name": "ipython",
    "version": 3
   },
   "file_extension": ".py",
   "mimetype": "text/x-python",
   "name": "python",
   "nbconvert_exporter": "python",
   "pygments_lexer": "ipython3",
   "version": "3.13.5"
  }
 },
 "nbformat": 4,
 "nbformat_minor": 5
}

{
 "cells": [
  {
   "cell_type": "code",
   "execution_count": null,
   "id": "077e999c",
   "metadata": {},
   "outputs": [],
   "source": [
    "nome_cliente = \"Ademir de Lucca Junior\"     \n",
    "idade_cliente = 21            \n",
    "score_credito = 772.4         \n",
    "cliente_ativo = True           \n",
    "\n",
    "\n",
    "print(\"Nome do Cliente:\", nome_cliente, \"| Tipo:\", type(nome_cliente))\n",
    "print(\"Idade do Cliente:\", idade_cliente, \"| Tipo:\", type(idade_cliente))\n",
    "print(\"Score de Crédito:\", score_credito, \"| Tipo:\", type(score_credito))\n",
    "print(\"Cliente Ativo:\", cliente_ativo, \"| Tipo:\", type(cliente_ativo))"
   ]
  }
 ],
 "metadata": {
  "language_info": {
   "name": "python"
  }
 },
 "nbformat": 4,
 "nbformat_minor": 5
}

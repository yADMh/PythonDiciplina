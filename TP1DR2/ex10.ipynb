{
 "cells": [
  {
   "cell_type": "code",
   "execution_count": null,
   "id": "358f0b23",
   "metadata": {},
   "outputs": [],
   "source": [
    "opiniao = 'Serviço excelente aluno Ademir de Lucca Junior, voltarei a comprar!'  \n",
    "\n",
    "numero_de_caracteres = len(opiniao)\n",
    "\n",
    "numero_de_palavras = len(opiniao.split()) \n",
    "\n",
    "print(\"Número de caracteres:\", numero_de_caracteres)\n",
    "print(\"Número de palavras:\", numero_de_palavras)"
   ]
  }
 ],
 "metadata": {
  "language_info": {
   "name": "python"
  }
 },
 "nbformat": 4,
 "nbformat_minor": 5
}

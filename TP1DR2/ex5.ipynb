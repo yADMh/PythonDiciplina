{
 "cells": [
  {
   "cell_type": "code",
   "execution_count": null,
   "id": "5168405b",
   "metadata": {},
   "outputs": [],
   "source": [
    "nome_proprio = \"Ademir de Lucca Junior\"  \n",
    "\n",
    "msg_aspas_simples = f\"Projeto '{nome_proprio}' em execução.\"\n",
    "msg_aspas_duplas = f'Aluno \"{nome_proprio}\" aprovado no teste.'\n",
    "relatorio_triple = f\"\"\"Título: Relatório de Execução\n",
    "Descrição: Este é um relatório sobre o projeto em andamento.\n",
    "Status: Aprovado\"\"\"\n",
    "\n",
    "\n",
    "print(msg_aspas_simples)\n",
    "print(msg_aspas_duplas)\n",
    "print(relatorio_triple)"
   ]
  }
 ],
 "metadata": {
  "language_info": {
   "name": "python"
  }
 },
 "nbformat": 4,
 "nbformat_minor": 5
}

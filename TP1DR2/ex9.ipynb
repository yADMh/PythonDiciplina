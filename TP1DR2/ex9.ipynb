{
 "cells": [
  {
   "cell_type": "code",
   "execution_count": null,
   "id": "b7b4715f",
   "metadata": {},
   "outputs": [],
   "source": [
    "habilidades = 'Domínio em Python, SQL e Excel'\n",
    "\n",
    "busca = 'Python'\n",
    "\n",
    "resultado = busca in habilidades\n",
    "\n",
    "print(resultado)  "
   ]
  }
 ],
 "metadata": {
  "language_info": {
   "name": "python"
  }
 },
 "nbformat": 4,
 "nbformat_minor": 5
}

{
 "cells": [
  {
   "cell_type": "code",
   "execution_count": null,
   "id": "2471d7fd",
   "metadata": {},
   "outputs": [],
   "source": [
    "nome_completo = \"Ademir de Lucca Junior\"  \n",
    "\n",
    "maiusculo = nome_completo.upper()         \n",
    "minusculo = nome_completo.lower()          \n",
    "title_case = nome_completo.title()      \n",
    "capitalize_case = nome_completo.capitalize() \n",
    "swapcase_case = nome_completo.swapcase() \n",
    "\n",
    "print(\"Tudo em maiúsculo:\", maiusculo)\n",
    "print(\"Tudo em minúsculo:\", minusculo)\n",
    "print(\"Primeira letra de cada nome maiúscula:\", title_case)\n",
    "print(\"Primeira letra da string maiúscula:\", capitalize_case)\n",
    "print(\"Inversão de maiúsculas/minúsculas:\", swapcase_case)"
   ]
  }
 ],
 "metadata": {
  "language_info": {
   "name": "python"
  }
 },
 "nbformat": 4,
 "nbformat_minor": 5
}

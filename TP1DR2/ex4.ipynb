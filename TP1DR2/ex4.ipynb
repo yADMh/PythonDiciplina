{
 "cells": [
  {
   "cell_type": "code",
   "execution_count": null,
   "id": "01ba6471",
   "metadata": {},
   "outputs": [],
   "source": [
    "ano_2_digitos = 25            \n",
    "tempo_minutos = 150 + ano_2_digitos \n",
    "tempo_horas = 2.25         \n",
    "\n",
    "horas_equivalentes = tempo_minutos / 60  \n",
    "minutos_equivalentes = tempo_horas * 60  \n",
    "\n",
    "print(\"Horas equivalentes a\", tempo_minutos, \"minutos:\", round(horas_equivalentes, 2))\n",
    "print(\"Minutos equivalentes a\", tempo_horas, \"horas:\", round(minutos_equivalentes, 2))"
   ]
  }
 ],
 "metadata": {
  "language_info": {
   "name": "python"
  }
 },
 "nbformat": 4,
 "nbformat_minor": 5
}

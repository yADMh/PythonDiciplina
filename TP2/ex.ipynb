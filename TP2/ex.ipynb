{
 "cells": [
  {
   "cell_type": "code",
   "execution_count": 1,
   "id": "154ba862",
   "metadata": {},
   "outputs": [
    {
     "name": "stdout",
     "output_type": "stream",
     "text": [
      "Transação normal\n"
     ]
    }
   ],
   "source": [
    "VALOR_TRANSACAO = 25000 \n",
    "TIPO_TRANSACAO = \"transferência\"  \n",
    "\n",
    "\n",
    "ANO_2_DIGITOS = 94 \n",
    "\n",
    "\n",
    "limite_alerta = 1000 * ANO_2_DIGITOS\n",
    "\n",
    "\n",
    "if VALOR_TRANSACAO > limite_alerta and TIPO_TRANSACAO == \"transferência\":\n",
    "    print(\"Alerta: verificar origem da transferência\")\n",
    "elif TIPO_TRANSACAO == \"saque\":\n",
    "    print(\"Alerta: confirmar com o cliente\")\n",
    "else:\n",
    "    print(\"Transação normal\")"
   ]
  },
  {
   "cell_type": "code",
   "execution_count": 2,
   "id": "3a0a6fc3",
   "metadata": {},
   "outputs": [
    {
     "name": "stdout",
     "output_type": "stream",
     "text": [
      "Elegível para promoção\n"
     ]
    }
   ],
   "source": [
    "tempo_empresa_anos = 3\n",
    "nota_avaliacao = 8.5\n",
    "carga_horaria = 40\n",
    "\n",
    "if tempo_empresa_anos > 2 and nota_avaliacao >= 8.0:\n",
    "    print(\"Elegível para promoção\")\n",
    "else:\n",
    "    print(\"Aguardando próxima avaliação\")"
   ]
  },
  {
   "cell_type": "code",
   "execution_count": 3,
   "id": "ab9056bb",
   "metadata": {},
   "outputs": [
    {
     "name": "stdout",
     "output_type": "stream",
     "text": [
      "Risco alto de atraso\n"
     ]
    }
   ],
   "source": [
    "distancia_km = 350\n",
    "clima = \"chuva\"\n",
    "zona_entrega = \"rural\"\n",
    "\n",
    "\n",
    "if distancia_km > 300 and (clima == \"chuva\" or zona_entrega == \"rural\"):\n",
    "    print(\"Risco alto de atraso\")\n",
    "else:\n",
    "    print(\"Entrega dentro do previsto\")"
   ]
  },
  {
   "cell_type": "code",
   "execution_count": 4,
   "id": "5139c865",
   "metadata": {},
   "outputs": [
    {
     "name": "stdout",
     "output_type": "stream",
     "text": [
      "Ajustar temperatura da esteira\n"
     ]
    }
   ],
   "source": [
    "codigo_falha = \"F3\"  \n",
    "temperatura = 50     \n",
    "\n",
    "\n",
    "if codigo_falha == \"F1\" and temperatura < 40:\n",
    "    print(\"Reiniciar máquina\")\n",
    "elif codigo_falha == \"F2\" and temperatura > 60:\n",
    "    print(\"Verificar conexão elétrica e sistema de refrigeração\")\n",
    "elif codigo_falha == \"F3\" and 45 <= temperatura <= 55:\n",
    "    print(\"Ajustar temperatura da esteira\")\n",
    "elif codigo_falha == \"F4\":\n",
    "    print(\"Realizar diagnóstico dos sensores ópticos\")\n",
    "elif codigo_falha in [\"F1\", \"F2\", \"F3\", \"F4\"]:\n",
    "    print(\"Falha não reconhecida pelo sistema de alarme. Acionar engenheiro responsável\")\n",
    "else:\n",
    "    print(\"Nenhuma falha registrada\")"
   ]
  },
  {
   "cell_type": "code",
   "execution_count": 8,
   "id": "20b4cd89",
   "metadata": {},
   "outputs": [
    {
     "name": "stdout",
     "output_type": "stream",
     "text": [
      "8\n",
      "10\n",
      "9\n"
     ]
    }
   ],
   "source": [
    "notas_avaliacao = [5, 8, 10, 6, 9, 4]\n",
    "for nota in notas_avaliacao:\n",
    "    if nota > 7:\n",
    "        print(nota)"
   ]
  },
  {
   "cell_type": "code",
   "execution_count": 9,
   "id": "9f441e78",
   "metadata": {},
   "outputs": [
    {
     "name": "stdout",
     "output_type": "stream",
     "text": [
      "[0, 5, 10, 15, 20, 25, 30, 35, 40, 45, 50]\n"
     ]
    }
   ],
   "source": [
    "comissoes = list(range(0, 51, 5))\n",
    "\n",
    "\n",
    "print(comissoes)"
   ]
  },
  {
   "cell_type": "code",
   "execution_count": 10,
   "id": "abca7abb",
   "metadata": {},
   "outputs": [
    {
     "name": "stdout",
     "output_type": "stream",
     "text": [
      "Tentando conectar...\n",
      "Tentando conectar...\n",
      "Tentando conectar...\n",
      "Conexão interrompida após limite de tentativas\n"
     ]
    }
   ],
   "source": [
    "tentativas_conexao = [False, False, False, True, True]\n",
    "tentativas = 0\n",
    "limite_tentativas = 3\n",
    "index = 0  \n",
    "\n",
    "\n",
    "while index < len(tentativas_conexao):\n",
    "    print(\"Tentando conectar...\")\n",
    "    tentativas += 1\n",
    "    \n",
    "    if tentativas_conexao[index] == True:\n",
    "        print(\"Conexão bem-sucedida!\")\n",
    "        break  \n",
    "    \n",
    "    if tentativas == limite_tentativas:\n",
    "        print(\"Conexão interrompida após limite de tentativas\")\n",
    "        break\n",
    "    \n",
    "    index += 1"
   ]
  },
  {
   "cell_type": "code",
   "execution_count": 11,
   "id": "1fdf3afb",
   "metadata": {},
   "outputs": [
    {
     "name": "stdout",
     "output_type": "stream",
     "text": [
      "Pedido a substituir não encontrado. Fila permanece inalterada.\n",
      "Fila final (Cenário C): ['P123', 'P789']\n"
     ]
    }
   ],
   "source": [
    "pedidos = [\"P123\", \"P789\"]\n",
    "pedido_a_substituir = \"P456\"  \n",
    "prioridade_urgente = False\n",
    "pedido_urgente = \"P999\"\n",
    "if prioridade_urgente:\n",
    "    # Não se aplica neste cenário\n",
    "    pass\n",
    "\n",
    "else:\n",
    "    if pedido_a_substituir in pedidos:\n",
    "        indice = pedidos.index(pedido_a_substituir)\n",
    "        pedidos[indice] = pedido_urgente\n",
    "        \n",
    "    else:\n",
    "        print(\"Pedido a substituir não encontrado. Fila permanece inalterada.\")\n",
    "print(f\"Fila final (Cenário C): {pedidos}\")"
   ]
  },
  {
   "cell_type": "code",
   "execution_count": 12,
   "id": "eb388397",
   "metadata": {},
   "outputs": [
    {
     "name": "stdout",
     "output_type": "stream",
     "text": [
      "Estoque total: ['banana', 'maçã', 'laranja', 'pera', 'laranja', 'banana', 'maçã', 'romã']\n",
      "Contagem de produtos:\n",
      "banana: 2\n",
      "maçã: 2\n",
      "laranja: 2\n",
      "pera: 1\n",
      "romã: 1\n"
     ]
    }
   ],
   "source": [
    "produtos_a = [\"banana\", \"maçã\"]\n",
    "produtos_b = [\"laranja\", \"pera\"]\n",
    "produtos_c = [\"laranja\", \"banana\", \"maçã\", \"romã\"]\n",
    "\n",
    "\n",
    "estoque_total = produtos_a + produtos_b + produtos_c\n",
    "\n",
    "\n",
    "print(\"Estoque total:\", estoque_total)\n",
    "\n",
    "\n",
    "contagem_produtos = {}\n",
    "for produto in estoque_total:\n",
    "    contagem_produtos[produto] = contagem_produtos.get(produto, 0) + 1\n",
    "\n",
    "\n",
    "print(\"Contagem de produtos:\")\n",
    "for produto, quantidade in contagem_produtos.items():\n",
    "    print(f\"{produto}: {quantidade}\")"
   ]
  },
  {
   "cell_type": "code",
   "execution_count": 13,
   "id": "419e5827",
   "metadata": {},
   "outputs": [
    {
     "name": "stdout",
     "output_type": "stream",
     "text": [
      "Boleto: 1 | Vencimento: 2025-08-05 | Situação: vencido\n",
      "Boleto: 2 | Vencimento: 2025-08-12 | Situação: vence hoje\n",
      "Boleto: 3 | Vencimento: 2025-08-15 | Situação: dentro do prazo\n",
      "Boleto: 4 | Vencimento: 2025-08-01 | Situação: vencido\n",
      "Boleto: 5 | Vencimento: 2025-08-20 | Situação: dentro do prazo\n",
      "Boleto: 6 | Vencimento: 2025-08-12 | Situação: vence hoje\n",
      "\n",
      "Total de boletos vencidos: 2\n"
     ]
    }
   ],
   "source": [
    "data_atual = \"2025-08-12\"\n",
    "boletos = [\n",
    "    \"2025-08-05\", \n",
    "    \"2025-08-12\",  \n",
    "    \"2025-08-15\",  \n",
    "    \"2025-08-01\",  \n",
    "    \"2025-08-20\", \n",
    "    \"2025-08-12\"  \n",
    "]\n",
    "\n",
    "total_vencidos = 0\n",
    "\n",
    "for i, vencimento in enumerate(boletos, start=1):\n",
    "    if vencimento < data_atual:\n",
    "        situacao = \"vencido\"\n",
    "        total_vencidos += 1\n",
    "    elif vencimento == data_atual:\n",
    "        situacao = \"vence hoje\"\n",
    "    else:\n",
    "        situacao = \"dentro do prazo\"\n",
    "    \n",
    "    print(f\"Boleto: {i} | Vencimento: {vencimento} | Situação: {situacao}\")\n",
    "print(f\"\\nTotal de boletos vencidos: {total_vencidos}\")"
   ]
  },
  {
   "cell_type": "code",
   "execution_count": 14,
   "id": "2b8a81e7",
   "metadata": {},
   "outputs": [
    {
     "name": "stdout",
     "output_type": "stream",
     "text": [
      "PytHoN eh melhOr q JAvascripT\n"
     ]
    }
   ],
   "source": [
    "msg = \"SbwKrQ eh phokRu q MDydvfulsW\"\n",
    "\n",
    "chave = msg.count('D') + msg.count('d') + msg.count('W')\n",
    "\n",
    "decodificada = \"\"\n",
    "palavra = \"\"\n",
    "\n",
    "for i in range(len(msg) + 1):\n",
    "    if i < len(msg) and msg[i] != \" \":\n",
    "        palavra += msg[i]\n",
    "    else:\n",
    "        if len(palavra) > 3:\n",
    "            nova = \"\"\n",
    "            for c in palavra:\n",
    "                if c.isalpha():\n",
    "                    base = ord('A') if c.isupper() else ord('a')\n",
    "                    nova += chr((ord(c) - base - chave) % 26 + base)\n",
    "                else:\n",
    "                    nova += c\n",
    "            decodificada += nova\n",
    "        else:\n",
    "            decodificada += palavra\n",
    "        if i < len(msg):\n",
    "            decodificada += \" \"\n",
    "        palavra = \"\"\n",
    "\n",
    "\n",
    "print(decodificada)"
   ]
  },
  {
   "cell_type": "code",
   "execution_count": 15,
   "id": "a9bbf026",
   "metadata": {},
   "outputs": [
    {
     "name": "stdout",
     "output_type": "stream",
     "text": [
      "Sensor 2 acima do limite\n",
      "Sensor 4 acima do limite\n"
     ]
    }
   ],
   "source": [
    "temperaturas = [28, 31, 27, 35, 29]\n",
    "\n",
    "limite = 30\n",
    "\n",
    "for i in range(len(temperaturas)):\n",
    "    if temperaturas[i] > limite:\n",
    "        print(f\"Sensor {i+1} acima do limite\")\n"
   ]
  }
 ],
 "metadata": {
  "kernelspec": {
   "display_name": "Python 3",
   "language": "python",
   "name": "python3"
  },
  "language_info": {
   "codemirror_mode": {
    "name": "ipython",
    "version": 3
   },
   "file_extension": ".py",
   "mimetype": "text/x-python",
   "name": "python",
   "nbconvert_exporter": "python",
   "pygments_lexer": "ipython3",
   "version": "3.13.5"
  }
 },
 "nbformat": 4,
 "nbformat_minor": 5
}
